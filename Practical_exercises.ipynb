{
 "cells": [
  {
   "cell_type": "markdown",
   "metadata": {},
   "source": [
    "## Exercise 1 (Crawling exercise)"
   ]
  },
  {
   "cell_type": "markdown",
   "metadata": {},
   "source": [
    "In this exercise a web crawler for Wikipedia was developed. \n",
    "From the term \"Universidad Carlos III de Madrid\" in Wikipedia implemented function extracts the following information: \n",
    "\n",
    "\n",
    "- Number of references to “Universidad Carlos III de Madrid” in Wikipedia\n",
    "- Number of students extracted from Wikipedia.\n"
   ]
  },
  {
   "cell_type": "code",
   "execution_count": 128,
   "metadata": {},
   "outputs": [],
   "source": [
    "#import of the needed libraries\n",
    "import requests\n",
    "from bs4 import BeautifulSoup"
   ]
  },
  {
   "cell_type": "markdown",
   "metadata": {},
   "source": [
    "To solve this exercise, a function was implemented. This function returns the desired outputs (Number of references to “Universidad Carlos III de Madrid” and number of students extracted from Wikipedia). To see how the data from the web page was selected, see the README file"
   ]
  },
  {
   "cell_type": "code",
   "execution_count": 129,
   "metadata": {},
   "outputs": [],
   "source": [
    "#definition for the function for building a web crawler\n",
    "def web(page,WebUrl):\n",
    "     if page>0:\n",
    "          url = WebUrl\n",
    "          code = requests.get(url)\n",
    "          plain = code.text\n",
    "          s = BeautifulSoup(plain, \"html.parser\")\n",
    "            #first for loop to access the number of references\n",
    "          for link in s.findAll('div', {'class':'reflist reflist-columns references-column-width reflist-columns-2'}):\n",
    "               lista = link.findAll('li')\n",
    "                #print for the number of references\n",
    "               print(len(lista))\n",
    "            #second foor loop to access the number of students\n",
    "          for table in s.findAll('table', {'class':'infobox vcard'}):\n",
    "              table_body = table.find('tbody')\n",
    "              rows = table_body.find_all('tr')\n",
    "                #print for the number of students\n",
    "          print(s.find(string=\"Students\").find_next('td').contents[0])"
   ]
  },
  {
   "cell_type": "code",
   "execution_count": 130,
   "metadata": {},
   "outputs": [
    {
     "name": "stdout",
     "output_type": "stream",
     "text": [
      "19\n",
      "18,676 (2012/13)\n"
     ]
    }
   ],
   "source": [
    "#function call\n",
    "web(1,'https://en.wikipedia.org/wiki/Universidad_Carlos_III_de_Madrid')"
   ]
  },
  {
   "cell_type": "markdown",
   "metadata": {},
   "source": [
    "Calling the function, the expected results are displayed. 19 is the number of references and 18,676 is the number of students ( relatively to the academica year 2012/13"
   ]
  },
  {
   "cell_type": "markdown",
   "metadata": {},
   "source": [
    "### Exercise 2 (Prediction exercise):\n",
    "\n",
    "\n",
    "The goal of this exercise is to define a model to predict the iew\n",
    "Through Rate (VTR) variable using the following dataset:\n",
    "- The training file, which includes 10k entries. For each of them there is VTR associated to a group of variables \n",
    "- The testing file includes 2,5k entries similar to those in the training file but without the VTR.\n",
    "\n",
    "The following code is used to build the prediction model, and you can find in the repository also the csv file with the values of the estimated VTR using the testing file.\n",
    "\n",
    "\n"
   ]
  },
  {
   "cell_type": "code",
   "execution_count": 131,
   "metadata": {},
   "outputs": [],
   "source": [
    "import sys\n",
    "import pandas as pd\n",
    "import numpy as np\n",
    "import itertools\n",
    "import statsmodels.api as sm\n",
    "import matplotlib.pyplot as plt\n",
    "import seaborn as sns\n",
    "#model\n",
    "from sklearn.model_selection import train_test_split\n",
    "from sklearn.datasets import make_regression\n",
    "from sklearn.model_selection import train_test_split as tts\n",
    "from statsmodels.regression import linear_model"
   ]
  },
  {
   "cell_type": "code",
   "execution_count": 132,
   "metadata": {},
   "outputs": [],
   "source": [
    "# Import the dataset\n",
    "df = pd.read_csv(\"df_train.csv\")\n",
    "#Dropping the columns that are not considered for the analysis\n",
    "df.drop(columns=['tsHour','tsHour_video_start', 'tsHour_video_complete','appType_video_start','appType_video_complete','domain_video_start',\n",
    "         'domain_video_complete','tsDow_video_start','tsDow_video_complete','creatSize_video_start','creatSize_video_complete',\n",
    "        'creatType_video_start','creatType_video_complete','deviceOs_video_start',\n",
    " 'deviceOs_video_complete','Unnamed: 0','appType','creatType','deviceOs','domain','creatSize','tsDow'], axis=1 , inplace= True)\n",
    "#splitting the dataset\n",
    "X= df.drop(['VTR',],axis=1)\n",
    "y= df['VTR']"
   ]
  },
  {
   "cell_type": "markdown",
   "metadata": {},
   "source": [
    "### Checking the correlation between features\n",
    "\n",
    "Data and feature correlation is one of the most important steps in the feature selection phase of the data pre-processing especially if the data type for the features is continuous. It helps to understand the relationship between multiple variables.\n",
    "In this case, having preprocessed the dataset previously by dropping the columns considered less impactful on the analysis, the next step is to check if there is a dependency between the remaining variables, by checking their correlation.\n",
    "\n",
    "The values of the correlation coefficient are always between -1 and +1. A correlation coefficient of +1 indicates that two variables are perfectly related in a positive linear sense, a correlation coefficient of -1 indicates that two variables are perfectly related in a negative linear sense, and a correlation coefficient of 0 indicates that there is no linear relationship between the two variables.\n",
    "In this case it's possible to see that there is no particularly strong linear relationship between the variables so it's possible to consider them for the analysis, without further preprocessing."
   ]
  },
  {
   "cell_type": "code",
   "execution_count": 133,
   "metadata": {
    "scrolled": false
   },
   "outputs": [
    {
     "data": {
      "text/html": [
       "<div>\n",
       "<style scoped>\n",
       "    .dataframe tbody tr th:only-of-type {\n",
       "        vertical-align: middle;\n",
       "    }\n",
       "\n",
       "    .dataframe tbody tr th {\n",
       "        vertical-align: top;\n",
       "    }\n",
       "\n",
       "    .dataframe thead th {\n",
       "        text-align: right;\n",
       "    }\n",
       "</style>\n",
       "<table border=\"1\" class=\"dataframe\">\n",
       "  <thead>\n",
       "    <tr style=\"text-align: right;\">\n",
       "      <th></th>\n",
       "      <th>appType_vtr</th>\n",
       "      <th>creatSize_vtr</th>\n",
       "      <th>creatType_vtr</th>\n",
       "      <th>deviceOs_vtr</th>\n",
       "      <th>domain_vtr</th>\n",
       "      <th>tsHour_vtr</th>\n",
       "      <th>tsDow_vtr</th>\n",
       "    </tr>\n",
       "  </thead>\n",
       "  <tbody>\n",
       "    <tr>\n",
       "      <th>appType_vtr</th>\n",
       "      <td>1.000000</td>\n",
       "      <td>-0.003441</td>\n",
       "      <td>-0.046071</td>\n",
       "      <td>-0.004670</td>\n",
       "      <td>0.076902</td>\n",
       "      <td>-0.032101</td>\n",
       "      <td>-0.016255</td>\n",
       "    </tr>\n",
       "    <tr>\n",
       "      <th>creatSize_vtr</th>\n",
       "      <td>-0.003441</td>\n",
       "      <td>1.000000</td>\n",
       "      <td>0.073302</td>\n",
       "      <td>0.191404</td>\n",
       "      <td>0.189709</td>\n",
       "      <td>-0.024008</td>\n",
       "      <td>-0.003433</td>\n",
       "    </tr>\n",
       "    <tr>\n",
       "      <th>creatType_vtr</th>\n",
       "      <td>-0.046071</td>\n",
       "      <td>0.073302</td>\n",
       "      <td>1.000000</td>\n",
       "      <td>-0.000900</td>\n",
       "      <td>0.012928</td>\n",
       "      <td>0.013261</td>\n",
       "      <td>-0.001242</td>\n",
       "    </tr>\n",
       "    <tr>\n",
       "      <th>deviceOs_vtr</th>\n",
       "      <td>-0.004670</td>\n",
       "      <td>0.191404</td>\n",
       "      <td>-0.000900</td>\n",
       "      <td>1.000000</td>\n",
       "      <td>0.115001</td>\n",
       "      <td>-0.016507</td>\n",
       "      <td>-0.006707</td>\n",
       "    </tr>\n",
       "    <tr>\n",
       "      <th>domain_vtr</th>\n",
       "      <td>0.076902</td>\n",
       "      <td>0.189709</td>\n",
       "      <td>0.012928</td>\n",
       "      <td>0.115001</td>\n",
       "      <td>1.000000</td>\n",
       "      <td>0.012393</td>\n",
       "      <td>0.002154</td>\n",
       "    </tr>\n",
       "    <tr>\n",
       "      <th>tsHour_vtr</th>\n",
       "      <td>-0.032101</td>\n",
       "      <td>-0.024008</td>\n",
       "      <td>0.013261</td>\n",
       "      <td>-0.016507</td>\n",
       "      <td>0.012393</td>\n",
       "      <td>1.000000</td>\n",
       "      <td>0.014692</td>\n",
       "    </tr>\n",
       "    <tr>\n",
       "      <th>tsDow_vtr</th>\n",
       "      <td>-0.016255</td>\n",
       "      <td>-0.003433</td>\n",
       "      <td>-0.001242</td>\n",
       "      <td>-0.006707</td>\n",
       "      <td>0.002154</td>\n",
       "      <td>0.014692</td>\n",
       "      <td>1.000000</td>\n",
       "    </tr>\n",
       "  </tbody>\n",
       "</table>\n",
       "</div>"
      ],
      "text/plain": [
       "               appType_vtr  creatSize_vtr  creatType_vtr  deviceOs_vtr  \\\n",
       "appType_vtr       1.000000      -0.003441      -0.046071     -0.004670   \n",
       "creatSize_vtr    -0.003441       1.000000       0.073302      0.191404   \n",
       "creatType_vtr    -0.046071       0.073302       1.000000     -0.000900   \n",
       "deviceOs_vtr     -0.004670       0.191404      -0.000900      1.000000   \n",
       "domain_vtr        0.076902       0.189709       0.012928      0.115001   \n",
       "tsHour_vtr       -0.032101      -0.024008       0.013261     -0.016507   \n",
       "tsDow_vtr        -0.016255      -0.003433      -0.001242     -0.006707   \n",
       "\n",
       "               domain_vtr  tsHour_vtr  tsDow_vtr  \n",
       "appType_vtr      0.076902   -0.032101  -0.016255  \n",
       "creatSize_vtr    0.189709   -0.024008  -0.003433  \n",
       "creatType_vtr    0.012928    0.013261  -0.001242  \n",
       "deviceOs_vtr     0.115001   -0.016507  -0.006707  \n",
       "domain_vtr       1.000000    0.012393   0.002154  \n",
       "tsHour_vtr       0.012393    1.000000   0.014692  \n",
       "tsDow_vtr        0.002154    0.014692   1.000000  "
      ]
     },
     "execution_count": 133,
     "metadata": {},
     "output_type": "execute_result"
    }
   ],
   "source": [
    "#visualizing a correlation table\n",
    "X.corr()"
   ]
  },
  {
   "cell_type": "code",
   "execution_count": 134,
   "metadata": {
    "scrolled": false
   },
   "outputs": [
    {
     "data": {
      "text/plain": [
       "<matplotlib.axes._subplots.AxesSubplot at 0x1cae9ed6fd0>"
      ]
     },
     "execution_count": 134,
     "metadata": {},
     "output_type": "execute_result"
    },
    {
     "data": {
      "image/png": "[encoded data removed]",
      "text/plain": [
       "<Figure size 432x288 with 2 Axes>"
      ]
     },
     "metadata": {
      "needs_background": "light"
     },
     "output_type": "display_data"
    }
   ],
   "source": [
    "#to get a more visual result , a correlation heatmap is displayed\n",
    "sns.heatmap(X.corr(),annot=True,lw=1)"
   ]
  },
  {
   "cell_type": "markdown",
   "metadata": {},
   "source": [
    "### Applying the regression model\n",
    "\n",
    "\n",
    "Having applied the regression model, in particolar the ordinary least squares regression, it's possible to see from the R-squared, that the independent variables collectively explain a quite good percentage of the variance in the dependent variable. \n",
    "\n",
    "R-squared measures the strength of the relationship between the model and the dependent variable on a convenient 0 – 100% scale.\n",
    "So in this case a value of 79% can be considered a good value.\n"
   ]
  },
  {
   "cell_type": "code",
   "execution_count": 135,
   "metadata": {
    "scrolled": false
   },
   "outputs": [
    {
     "data": {
      "text/html": [
       "<table class=\"simpletable\">\n",
       "<caption>OLS Regression Results</caption>\n",
       "<tr>\n",
       "  <th>Dep. Variable:</th>           <td>VTR</td>       <th>  R-squared:         </th> <td>   0.795</td>\n",
       "</tr>\n",
       "<tr>\n",
       "  <th>Model:</th>                   <td>OLS</td>       <th>  Adj. R-squared:    </th> <td>   0.795</td>\n",
       "</tr>\n",
       "<tr>\n",
       "  <th>Method:</th>             <td>Least Squares</td>  <th>  F-statistic:       </th> <td>   5534.</td>\n",
       "</tr>\n",
       "<tr>\n",
       "  <th>Date:</th>             <td>Mon, 15 Mar 2021</td> <th>  Prob (F-statistic):</th>  <td>  0.00</td> \n",
       "</tr>\n",
       "<tr>\n",
       "  <th>Time:</th>                 <td>00:48:19</td>     <th>  Log-Likelihood:    </th> <td> -3239.6</td>\n",
       "</tr>\n",
       "<tr>\n",
       "  <th>No. Observations:</th>      <td> 10000</td>      <th>  AIC:               </th> <td>   6493.</td>\n",
       "</tr>\n",
       "<tr>\n",
       "  <th>Df Residuals:</th>          <td>  9993</td>      <th>  BIC:               </th> <td>   6544.</td>\n",
       "</tr>\n",
       "<tr>\n",
       "  <th>Df Model:</th>              <td>     7</td>      <th>                     </th>     <td> </td>   \n",
       "</tr>\n",
       "<tr>\n",
       "  <th>Covariance Type:</th>      <td>nonrobust</td>    <th>                     </th>     <td> </td>   \n",
       "</tr>\n",
       "</table>\n",
       "<table class=\"simpletable\">\n",
       "<tr>\n",
       "        <td></td>           <th>coef</th>     <th>std err</th>      <th>t</th>      <th>P>|t|</th>  <th>[0.025</th>    <th>0.975]</th>  \n",
       "</tr>\n",
       "<tr>\n",
       "  <th>appType_vtr</th>   <td>    0.6822</td> <td>    0.150</td> <td>    4.545</td> <td> 0.000</td> <td>    0.388</td> <td>    0.976</td>\n",
       "</tr>\n",
       "<tr>\n",
       "  <th>creatSize_vtr</th> <td>    0.4680</td> <td>    0.041</td> <td>   11.394</td> <td> 0.000</td> <td>    0.387</td> <td>    0.548</td>\n",
       "</tr>\n",
       "<tr>\n",
       "  <th>creatType_vtr</th> <td>    0.0950</td> <td>    0.430</td> <td>    0.221</td> <td> 0.825</td> <td>   -0.747</td> <td>    0.937</td>\n",
       "</tr>\n",
       "<tr>\n",
       "  <th>deviceOs_vtr</th>  <td>   -0.2051</td> <td>    0.114</td> <td>   -1.802</td> <td> 0.072</td> <td>   -0.428</td> <td>    0.018</td>\n",
       "</tr>\n",
       "<tr>\n",
       "  <th>domain_vtr</th>    <td>    0.8203</td> <td>    0.017</td> <td>   49.317</td> <td> 0.000</td> <td>    0.788</td> <td>    0.853</td>\n",
       "</tr>\n",
       "<tr>\n",
       "  <th>tsHour_vtr</th>    <td>    0.3212</td> <td>    0.178</td> <td>    1.803</td> <td> 0.071</td> <td>   -0.028</td> <td>    0.670</td>\n",
       "</tr>\n",
       "<tr>\n",
       "  <th>tsDow_vtr</th>     <td>   -1.2264</td> <td>    0.435</td> <td>   -2.818</td> <td> 0.005</td> <td>   -2.079</td> <td>   -0.373</td>\n",
       "</tr>\n",
       "</table>\n",
       "<table class=\"simpletable\">\n",
       "<tr>\n",
       "  <th>Omnibus:</th>       <td>562.281</td> <th>  Durbin-Watson:     </th> <td>   1.947</td> \n",
       "</tr>\n",
       "<tr>\n",
       "  <th>Prob(Omnibus):</th> <td> 0.000</td>  <th>  Jarque-Bera (JB):  </th> <td> 660.121</td> \n",
       "</tr>\n",
       "<tr>\n",
       "  <th>Skew:</th>          <td>-0.624</td>  <th>  Prob(JB):          </th> <td>4.53e-144</td>\n",
       "</tr>\n",
       "<tr>\n",
       "  <th>Kurtosis:</th>      <td> 3.165</td>  <th>  Cond. No.          </th> <td>    318.</td> \n",
       "</tr>\n",
       "</table><br/><br/>Warnings:<br/>[1] Standard Errors assume that the covariance matrix of the errors is correctly specified."
      ],
      "text/plain": [
       "<class 'statsmodels.iolib.summary.Summary'>\n",
       "\"\"\"\n",
       "                            OLS Regression Results                            \n",
       "==============================================================================\n",
       "Dep. Variable:                    VTR   R-squared:                       0.795\n",
       "Model:                            OLS   Adj. R-squared:                  0.795\n",
       "Method:                 Least Squares   F-statistic:                     5534.\n",
       "Date:                Mon, 15 Mar 2021   Prob (F-statistic):               0.00\n",
       "Time:                        00:48:19   Log-Likelihood:                -3239.6\n",
       "No. Observations:               10000   AIC:                             6493.\n",
       "Df Residuals:                    9993   BIC:                             6544.\n",
       "Df Model:                           7                                         \n",
       "Covariance Type:            nonrobust                                         \n",
       "=================================================================================\n",
       "                    coef    std err          t      P>|t|      [0.025      0.975]\n",
       "---------------------------------------------------------------------------------\n",
       "appType_vtr       0.6822      0.150      4.545      0.000       0.388       0.976\n",
       "creatSize_vtr     0.4680      0.041     11.394      0.000       0.387       0.548\n",
       "creatType_vtr     0.0950      0.430      0.221      0.825      -0.747       0.937\n",
       "deviceOs_vtr     -0.2051      0.114     -1.802      0.072      -0.428       0.018\n",
       "domain_vtr        0.8203      0.017     49.317      0.000       0.788       0.853\n",
       "tsHour_vtr        0.3212      0.178      1.803      0.071      -0.028       0.670\n",
       "tsDow_vtr        -1.2264      0.435     -2.818      0.005      -2.079      -0.373\n",
       "==============================================================================\n",
       "Omnibus:                      562.281   Durbin-Watson:                   1.947\n",
       "Prob(Omnibus):                  0.000   Jarque-Bera (JB):              660.121\n",
       "Skew:                          -0.624   Prob(JB):                    4.53e-144\n",
       "Kurtosis:                       3.165   Cond. No.                         318.\n",
       "==============================================================================\n",
       "\n",
       "Warnings:\n",
       "[1] Standard Errors assume that the covariance matrix of the errors is correctly specified.\n",
       "\"\"\""
      ]
     },
     "execution_count": 135,
     "metadata": {},
     "output_type": "execute_result"
    }
   ],
   "source": [
    "#Defining train and test sets for the model\n",
    "X_train, X_test, y_train, y_test = train_test_split(X,y, test_size=0.25, random_state=1)\n",
    "#Applying the ordinary least squares regression\n",
    "model = linear_model.OLS(y,X).fit()\n",
    "model.summary()"
   ]
  },
  {
   "cell_type": "code",
   "execution_count": 136,
   "metadata": {},
   "outputs": [],
   "source": [
    "#applying the model on the test set\n",
    "dftest = pd.read_csv(\"df_test_predict.csv\")\n",
    "#Dropping the columns that are not considered for the analysis\n",
    "dftest.drop(columns=['tsHour','tsHour_video_start', 'tsHour_video_complete','appType_video_start','appType_video_complete','domain_video_start',\n",
    "         'domain_video_complete','tsDow_video_start','tsDow_video_complete','creatSize_video_start','creatSize_video_complete',\n",
    "        'creatType_video_start','creatType_video_complete','deviceOs_video_start',\n",
    " 'deviceOs_video_complete','Unnamed: 0','appType','creatType','deviceOs','domain','creatSize','tsDow'], axis=1 , inplace= True)\n",
    "# prediction based on OLS method\n",
    "OLS_pred = np.exp(model.predict(X_test)) \n",
    "\n",
    "final_pred = OLS_pred\n",
    "#creating a dataframe to store the predicted values\n",
    "output=pd.DataFrame()\n",
    "output['VTR']=final_pred\n",
    "#saving the values to a .csv file\n",
    "output.to_csv('VTR.csv', index=False)"
   ]
  }
 ],
 "metadata": {
  "kernelspec": {
   "display_name": "Python 3",
   "language": "python",
   "name": "python3"
  },
  "language_info": {
   "codemirror_mode": {
    "name": "ipython",
    "version": 3
   },
   "file_extension": ".py",
   "mimetype": "text/x-python",
   "name": "python",
   "nbconvert_exporter": "python",
   "pygments_lexer": "ipython3",
   "version": "3.7.0"
  }
 },
 "nbformat": 4,
 "nbformat_minor": 2
}
